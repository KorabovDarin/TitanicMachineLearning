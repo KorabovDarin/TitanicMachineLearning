{
 "cells": [
  {
   "cell_type": "code",
   "execution_count": 1,
   "metadata": {
    "collapsed": true
   },
   "outputs": [],
   "source": [
    "# First of all install all needed libraries we will use in this project\n",
    "# Import libraries\n",
    "import numpy as np \n",
    "import pandas as pd\n",
    "import matplotlib.pyplot as plt\n",
    "import seaborn as sns\n",
    "import pylab as plot\n",
    "import warnings\n",
    "plt.style.use('fivethirtyeight')\n",
    "\n",
    "\n",
    "warnings.filterwarnings('ignore')\n",
    "%matplotlib inline\n",
    "\n",
    "\n",
    "params = { \n",
    "    'axes.labelsize': \"large\",\n",
    "    'xtick.labelsize': 'x-large',\n",
    "    'legend.fontsize': 20,\n",
    "    'figure.dpi': 150,\n",
    "    'figure.figsize': [25, 7]\n",
    "}\n",
    "plot.rcParams.update(params)\n",
    "sns.set_context('notebook')\n",
    "sns.set_style('white')\n",
    "plt.rcParams['axes.labelsize'] = 14\n",
    "plt.rcParams['xtick.labelsize'] = 12\n",
    "plt.rcParams['ytick.labelsize'] = 12"
   ]
  },
  {
   "cell_type": "code",
   "execution_count": 37,
   "metadata": {},
   "outputs": [],
   "source": [
    "# Create a path to the directory of the project \n",
    "# Get train.csv into the variable data\n",
    "\n",
    "path_to_train_data = \"train.csv\"\n",
    "data = pd.read_csv(path_to_train_data)"
   ]
  },
  {
   "cell_type": "code",
   "execution_count": 38,
   "metadata": {},
   "outputs": [],
   "source": [
    "def create_title(data):\n",
    "    data['Title'] = data['Name'].str.split(',', expand=True)[1].str.split('.', expand=True)[0].str.strip()\n",
    "    # Fill missing values\n",
    "    data['Title'].fillna(0, inplace=True)\n",
    "\n",
    "def replace_old_titles(data):\n",
    "    old = ['Mlle', 'Mme', 'Ms', 'Dr', 'Major', 'Lady', 'the Countess', 'Jonkheer', 'Col', 'Rev', 'Capt', 'Sir', 'Don', 'Dona']\n",
    "    new = ['Miss', 'Mrs', 'Miss', 'Mr', 'Other', 'Other', 'Other', 'Other', 'Other', 'Other', 'Other', 'Other',\n",
    "           'Other', 'Other']\n",
    "    data['Title'].replace(old, new, inplace=True)\n",
    "\n",
    "def new_Ticket(data):\n",
    "    data['Ticket'] = data['Ticket'].str[0]\n",
    "    \n",
    "def CombineTicket(data):\n",
    "    data['Ticket'] = data['Ticket'].replace(['A', 'W', 'F', 'L', '5', '6', '7', '8', '9'], 4)\n",
    "\n",
    "def Ticket_to_numeric(data):\n",
    "    data['Ticket'] = data['Ticket'].replace('S', 5)\n",
    "    data['Ticket'] = data['Ticket'].replace('P', 6)\n",
    "    data['Ticket'] = data['Ticket'].replace('C', 7)\n",
    "    data['Ticket'] = data['Ticket'].astype(int)\n",
    "\n",
    "def fill_missing_Age(data):\n",
    "    # We use this as indicator to which Title what the average Age is\n",
    "    data.groupby('Title')['Age'].mean()\n",
    "    # Fill missing data for Age column\n",
    "    # With the statistics we make approximate estimation about the missing value\n",
    "    # This way we dont delete records(rows) with missing Age but save the record by fixing the data\n",
    "\n",
    "    # if Age has no value and depending on title we fill the Age column with the mean value for the group\n",
    "    data.loc[(data.Age.isnull()) & (data.Title == 'Master'), 'Age'] = 4\n",
    "    data.loc[(data.Age.isnull()) & (data.Title == 'Miss'), 'Age'] = 22\n",
    "    data.loc[(data.Age.isnull()) & (data.Title == 'Mr'), 'Age'] = 33\n",
    "    data.loc[(data.Age.isnull()) & (data.Title == 'Mrs'), 'Age'] = 36\n",
    "    data.loc[(data.Age.isnull()) & (data.Title == 'Other'), 'Age'] = 45\n",
    "\n",
    "    # check if there are any missing values\n",
    "    data['Age'].isnull().values.any()\n",
    "\n",
    "def fill_missing_Embarked(data):\n",
    "    # Fill Embarked column with S, because most of the Passengers are from port S\n",
    "    data['Embarked'].fillna('S', inplace=True)\n",
    "\n",
    "\n",
    "def create_Family_Size_and_Alone(data):\n",
    "    # Create a new column for family size, a combination of Sibsp and Parch\n",
    "    data['Family_Size'] = 0\n",
    "    data['Family_Size'] = data['Parch'] + data['SibSp'] + 1\n",
    "\n",
    "    # Create new column Alone, all values set to 0\n",
    "    # If family size is 0 then the person is alone\n",
    "    data['Alone'] = 0\n",
    "    data.loc[data['Family_Size'] == 0, 'Alone'] = 1\n",
    "\n",
    "def Preprocess_Family_Size(data):\n",
    "    data['Family_Size'] = data['Family_Size'].map(lambda x: 0 if x > 4 else x)\n",
    "\n",
    "\n",
    "def create_Age_band(data):\n",
    "    # Populate Age_band with according age groups\n",
    "\n",
    "    Age_Band_Values = [5, 15, 26, 38]\n",
    "\n",
    "    data['Age_band'] = 0\n",
    "\n",
    "    data.loc[data['Age'] <= Age_Band_Values[0], 'Age_band'] = 0\n",
    "    data.loc[(data['Age'] > Age_Band_Values[0]) & (data['Age'] <= Age_Band_Values[1]), 'Age_band'] = 1\n",
    "    data.loc[(data['Age'] > Age_Band_Values[1]) & (data['Age'] <= Age_Band_Values[2]), 'Age_band'] = 2\n",
    "    data.loc[(data['Age'] > Age_Band_Values[2]) & (data['Age'] <= Age_Band_Values[3]), 'Age_band'] = 3\n",
    "    data.loc[(data['Age'] > Age_Band_Values[3]), 'Age_band'] = 4\n",
    "\n",
    "\n",
    "def create_Fare_category(data):\n",
    "    # Create 4 ranges\n",
    "    data['Fare_Range'] = pd.qcut(data['Fare'], 4)\n",
    "\n",
    "    # Create new feature telling in which category the fare is\n",
    "    data['Fare_cat'] = 0\n",
    "    data.loc[data['Fare'] <= 7.91, 'Fare_cat'] = 0\n",
    "    data.loc[(data['Fare'] > 7.91) & (data['Fare'] <= 14.454), 'Fare_cat'] = 1\n",
    "    data.loc[(data['Fare'] > 14.454) & (data['Fare'] <= 31), 'Fare_cat'] = 2\n",
    "    data.loc[(data['Fare'] > 31) & (data['Fare'] <= 513), 'Fare_cat'] = 3\n",
    "\n",
    "def map_sex(data):\n",
    "    sex_mapping = {'male': 0, 'female': 1}\n",
    "    data['Sex'] = data['Sex'].map(sex_mapping)\n",
    "\n",
    "def map_embarked(data):\n",
    "    embarked_mapping = {\"S\": 0, \"C\": 1, \"Q\": 2}\n",
    "    data['Embarked'] = data['Embarked'].map(embarked_mapping)\n",
    "\n",
    "def map_title(data):\n",
    "    title_mapping = {'Mr': 0, 'Mrs': 1, 'Miss': 2, 'Master': 3, 'Other': 4}\n",
    "    data['Title'] = data['Title'].map(title_mapping)\n",
    "\n",
    "def create_Surname(data):\n",
    "    data['Surname'] = data['Name'].str.split(',').str.get(0)\n",
    "\n",
    "def drop_features(data):\n",
    "    data.drop(['Name', 'Age', 'Fare', 'Cabin', 'Fare_Range', 'PassengerId', \"SibSp\", 'Parch'], axis=1, inplace=True)\n",
    "    return data\n",
    "\n",
    "def dummy_data(data, columns):\n",
    "    for column in columns:\n",
    "        data = pd.concat([data, pd.get_dummies(data[column], prefix=column)], axis=1)\n",
    "        data = data.drop(column, axis=1)\n",
    "    return data\n",
    "\n",
    "def create_dummy_columns(data):\n",
    "    dummy_columns = ['Pclass', 'Embarked', 'Title', 'Age_band', 'Fare_cat']\n",
    "\n",
    "    data[['Pclass', 'Embarked', 'Title', 'Age_band', 'Fare_cat', 'Ticket']] = data[\n",
    "        ['Pclass', 'Embarked', 'Title', 'Age_band', 'Fare_cat', 'Ticket']].apply(pd.to_numeric)\n",
    "    res = dummy_data(data, dummy_columns)\n",
    "    return res\n",
    "\n",
    "\n",
    "def Preprocessing(data):\n",
    "    create_title(data)\n",
    "    replace_old_titles(data)\n",
    "    fill_missing_Age(data)\n",
    "    fill_missing_Embarked(data)\n",
    "    create_Family_Size_and_Alone(data)\n",
    "    Preprocess_Family_Size(data)\n",
    "\n",
    "    create_Age_band(data)\n",
    "    create_Fare_category(data)\n",
    "\n",
    "    new_Ticket(data)\n",
    "    CombineTicket(data)\n",
    "    Ticket_to_numeric(data)\n",
    "\n",
    "    map_sex(data)\n",
    "    map_embarked(data)\n",
    "    map_title(data)\n",
    "    drop_features(data)\n",
    "    final_db = create_dummy_columns(data)\n",
    "\n",
    "    return final_db\n",
    "\n",
    "\n",
    "def Plot(res, feature, label):\n",
    "    objects = res[feature].values\n",
    "    #print(data['Embarked'].value_counts())\n",
    "\n",
    "    y_pos = np.arange(len(objects))\n",
    "    values = res[label].values\n",
    "    plt.figure(figsize=(6, 2))\n",
    "    plt.bar(y_pos, values, align='center', alpha=0.5, color='blue')\n",
    "    plt.xticks(y_pos, objects)\n",
    "    title_text = feature + ' vs ' + label\n",
    "    plt.title(title_text)\n",
    "\n",
    "    plt.show()"
   ]
  },
  {
   "cell_type": "code",
   "execution_count": 45,
   "metadata": {},
   "outputs": [],
   "source": [
    "# Analyze columns\n"
   ]
  },
  {
   "cell_type": "code",
   "execution_count": 46,
   "metadata": {},
   "outputs": [
    {
     "data": {
      "text/plain": [
       "Index(['PassengerId', 'Survived', 'Pclass', 'Name', 'Sex', 'Age', 'SibSp',\n       'Parch', 'Ticket', 'Fare', 'Cabin', 'Embarked'],\n      dtype='object')"
      ]
     },
     "execution_count": 46,
     "metadata": {},
     "output_type": "execute_result"
    }
   ],
   "source": [
    "data.columns"
   ]
  },
  {
   "cell_type": "code",
   "execution_count": 47,
   "metadata": {},
   "outputs": [
    {
     "data": {
      "text/html": [
       "<div>\n",
       "<style scoped>\n",
       "    .dataframe tbody tr th:only-of-type {\n",
       "        vertical-align: middle;\n",
       "    }\n",
       "\n",
       "    .dataframe tbody tr th {\n",
       "        vertical-align: top;\n",
       "    }\n",
       "\n",
       "    .dataframe thead th {\n",
       "        text-align: right;\n",
       "    }\n",
       "</style>\n",
       "<table border=\"1\" class=\"dataframe\">\n",
       "  <thead>\n",
       "    <tr style=\"text-align: right;\">\n",
       "      <th></th>\n",
       "      <th>PassengerId</th>\n",
       "      <th>Survived</th>\n",
       "      <th>Pclass</th>\n",
       "      <th>Name</th>\n",
       "      <th>Sex</th>\n",
       "      <th>Age</th>\n",
       "      <th>SibSp</th>\n",
       "      <th>Parch</th>\n",
       "      <th>Ticket</th>\n",
       "      <th>Fare</th>\n",
       "      <th>Cabin</th>\n",
       "      <th>Embarked</th>\n",
       "    </tr>\n",
       "  </thead>\n",
       "  <tbody>\n",
       "    <tr>\n",
       "      <th>0</th>\n",
       "      <td>1</td>\n",
       "      <td>0</td>\n",
       "      <td>3</td>\n",
       "      <td>Braund, Mr. Owen Harris</td>\n",
       "      <td>male</td>\n",
       "      <td>22.0</td>\n",
       "      <td>1</td>\n",
       "      <td>0</td>\n",
       "      <td>A/5 21171</td>\n",
       "      <td>7.2500</td>\n",
       "      <td>NaN</td>\n",
       "      <td>S</td>\n",
       "    </tr>\n",
       "    <tr>\n",
       "      <th>1</th>\n",
       "      <td>2</td>\n",
       "      <td>1</td>\n",
       "      <td>1</td>\n",
       "      <td>Cumings, Mrs. John Bradley (Florence Briggs Th...</td>\n",
       "      <td>female</td>\n",
       "      <td>38.0</td>\n",
       "      <td>1</td>\n",
       "      <td>0</td>\n",
       "      <td>PC 17599</td>\n",
       "      <td>71.2833</td>\n",
       "      <td>C85</td>\n",
       "      <td>C</td>\n",
       "    </tr>\n",
       "    <tr>\n",
       "      <th>2</th>\n",
       "      <td>3</td>\n",
       "      <td>1</td>\n",
       "      <td>3</td>\n",
       "      <td>Heikkinen, Miss. Laina</td>\n",
       "      <td>female</td>\n",
       "      <td>26.0</td>\n",
       "      <td>0</td>\n",
       "      <td>0</td>\n",
       "      <td>STON/O2. 3101282</td>\n",
       "      <td>7.9250</td>\n",
       "      <td>NaN</td>\n",
       "      <td>S</td>\n",
       "    </tr>\n",
       "    <tr>\n",
       "      <th>3</th>\n",
       "      <td>4</td>\n",
       "      <td>1</td>\n",
       "      <td>1</td>\n",
       "      <td>Futrelle, Mrs. Jacques Heath (Lily May Peel)</td>\n",
       "      <td>female</td>\n",
       "      <td>35.0</td>\n",
       "      <td>1</td>\n",
       "      <td>0</td>\n",
       "      <td>113803</td>\n",
       "      <td>53.1000</td>\n",
       "      <td>C123</td>\n",
       "      <td>S</td>\n",
       "    </tr>\n",
       "    <tr>\n",
       "      <th>4</th>\n",
       "      <td>5</td>\n",
       "      <td>0</td>\n",
       "      <td>3</td>\n",
       "      <td>Allen, Mr. William Henry</td>\n",
       "      <td>male</td>\n",
       "      <td>35.0</td>\n",
       "      <td>0</td>\n",
       "      <td>0</td>\n",
       "      <td>373450</td>\n",
       "      <td>8.0500</td>\n",
       "      <td>NaN</td>\n",
       "      <td>S</td>\n",
       "    </tr>\n",
       "  </tbody>\n",
       "</table>\n",
       "</div>"
      ],
      "text/plain": [
       "<div>\n",
       "<style scoped>\n",
       "    .dataframe tbody tr th:only-of-type {\n",
       "        vertical-align: middle;\n",
       "    }\n",
       "\n",
       "    .dataframe tbody tr th {\n",
       "        vertical-align: top;\n",
       "    }\n",
       "\n",
       "    .dataframe thead th {\n",
       "        text-align: right;\n",
       "    }\n",
       "</style>\n",
       "<table border=\"1\" class=\"dataframe\">\n",
       "  <thead>\n",
       "    <tr style=\"text-align: right;\">\n",
       "      <th></th>\n",
       "      <th>PassengerId</th>\n",
       "      <th>Survived</th>\n",
       "      <th>Pclass</th>\n",
       "      <th>Name</th>\n",
       "      <th>Sex</th>\n",
       "      <th>Age</th>\n",
       "      <th>SibSp</th>\n",
       "      <th>Parch</th>\n",
       "      <th>Ticket</th>\n",
       "      <th>Fare</th>\n",
       "      <th>Cabin</th>\n",
       "      <th>Embarked</th>\n",
       "    </tr>\n",
       "  </thead>\n",
       "  <tbody>\n",
       "    <tr>\n",
       "      <th>0</th>\n",
       "      <td>1</td>\n",
       "      <td>0</td>\n",
       "      <td>3</td>\n",
       "      <td>Braund, Mr. Owen Harris</td>\n",
       "      <td>male</td>\n",
       "      <td>22.0</td>\n",
       "      <td>1</td>\n",
       "      <td>0</td>\n",
       "      <td>A/5 21171</td>\n",
       "      <td>7.2500</td>\n",
       "      <td>NaN</td>\n",
       "      <td>S</td>\n",
       "    </tr>\n",
       "    <tr>\n",
       "      <th>1</th>\n",
       "      <td>2</td>\n",
       "      <td>1</td>\n",
       "      <td>1</td>\n",
       "      <td>Cumings, Mrs. John Bradley (Florence Briggs Th...</td>\n",
       "      <td>female</td>\n",
       "      <td>38.0</td>\n",
       "      <td>1</td>\n",
       "      <td>0</td>\n",
       "      <td>PC 17599</td>\n",
       "      <td>71.2833</td>\n",
       "      <td>C85</td>\n",
       "      <td>C</td>\n",
       "    </tr>\n",
       "    <tr>\n",
       "      <th>2</th>\n",
       "      <td>3</td>\n",
       "      <td>1</td>\n",
       "      <td>3</td>\n",
       "      <td>Heikkinen, Miss. Laina</td>\n",
       "      <td>female</td>\n",
       "      <td>26.0</td>\n",
       "      <td>0</td>\n",
       "      <td>0</td>\n",
       "      <td>STON/O2. 3101282</td>\n",
       "      <td>7.9250</td>\n",
       "      <td>NaN</td>\n",
       "      <td>S</td>\n",
       "    </tr>\n",
       "    <tr>\n",
       "      <th>3</th>\n",
       "      <td>4</td>\n",
       "      <td>1</td>\n",
       "      <td>1</td>\n",
       "      <td>Futrelle, Mrs. Jacques Heath (Lily May Peel)</td>\n",
       "      <td>female</td>\n",
       "      <td>35.0</td>\n",
       "      <td>1</td>\n",
       "      <td>0</td>\n",
       "      <td>113803</td>\n",
       "      <td>53.1000</td>\n",
       "      <td>C123</td>\n",
       "      <td>S</td>\n",
       "    </tr>\n",
       "    <tr>\n",
       "      <th>4</th>\n",
       "      <td>5</td>\n",
       "      <td>0</td>\n",
       "      <td>3</td>\n",
       "      <td>Allen, Mr. William Henry</td>\n",
       "      <td>male</td>\n",
       "      <td>35.0</td>\n",
       "      <td>0</td>\n",
       "      <td>0</td>\n",
       "      <td>373450</td>\n",
       "      <td>8.0500</td>\n",
       "      <td>NaN</td>\n",
       "      <td>S</td>\n",
       "    </tr>\n",
       "  </tbody>\n",
       "</table>\n",
       "</div>"
      ]
     },
     "execution_count": 47,
     "metadata": {},
     "output_type": "execute_result"
    }
   ],
   "source": [
    "data.head()"
   ]
  },
  {
   "cell_type": "code",
   "execution_count": 48,
   "metadata": {},
   "outputs": [
    {
     "name": "stdout",
     "output_type": "stream",
     "text": [
      "<class 'pandas.core.frame.DataFrame'>\nRangeIndex: 891 entries, 0 to 890\nData columns (total 12 columns):\nPassengerId    891 non-null int64\nSurvived       891 non-null int64\nPclass         891 non-null int64\nName           891 non-null object\nSex            891 non-null object\nAge            714 non-null float64\nSibSp          891 non-null int64\nParch          891 non-null int64\nTicket         891 non-null object\nFare           891 non-null float64\nCabin          204 non-null object\nEmbarked       889 non-null object\ndtypes: float64(2), int64(5), object(5)\nmemory usage: 83.6+ KB\n"
     ]
    }
   ],
   "source": [
    "data.info()"
   ]
  },
  {
   "cell_type": "heading",
   "metadata": {},
   "level": 1,
   "source": [
    "PClass"
   ]
  },
  {
   "cell_type": "code",
   "execution_count": 49,
   "metadata": {},
   "outputs": [
    {
     "data": {
      "text/plain": [
       "0"
      ]
     },
     "execution_count": 49,
     "metadata": {},
     "output_type": "execute_result"
    }
   ],
   "source": [
    "# check if there is any NAN\n",
    "data['Pclass'].isnull().sum(axis=0)"
   ]
  },
  {
   "cell_type": "code",
   "execution_count": 50,
   "metadata": {},
   "outputs": [
    {
     "data": {
      "text/plain": [
       "3    491\n1    216\n2    184\nName: Pclass, dtype: int64"
      ]
     },
     "execution_count": 50,
     "metadata": {},
     "output_type": "execute_result"
    }
   ],
   "source": [
    "data['Pclass'].value_counts()"
   ]
  },
  {
   "cell_type": "code",
   "execution_count": 51,
   "metadata": {},
   "outputs": [
    {
     "name": "stdout",
     "output_type": "stream",
     "text": [
      "   Pclass  Survived\n0       1  0.629630\n1       2  0.472826\n2       3  0.242363\n"
     ]
    },
    {
     "data": {
      "image/png": "[encoded data removed]",
      "text/plain": [
       "<Figure size 432x144 with 1 Axes>"
      ]
     },
     "metadata": {},
     "output_type": "display_data"
    }
   ],
   "source": [
    "# inspect the correlation between Pclass and Survived\n",
    "print(data[['Pclass', 'Survived']].groupby(['Pclass'], as_index=False).mean())\n",
    "res = data[['Pclass', 'Survived']].groupby(['Pclass'], as_index=False).mean()\n",
    "# PClass should be an important feature\n",
    "\n",
    "Plot(res, 'Pclass', 'Survived')"
   ]
  },
  {
   "cell_type": "heading",
   "metadata": {},
   "level": 1,
   "source": [
    "Name"
   ]
  },
  {
   "cell_type": "code",
   "execution_count": 52,
   "metadata": {},
   "outputs": [
    {
     "data": {
      "text/plain": [
       "0                              Braund, Mr. Owen Harris\n1    Cumings, Mrs. John Bradley (Florence Briggs Th...\n2                               Heikkinen, Miss. Laina\n3         Futrelle, Mrs. Jacques Heath (Lily May Peel)\n4                             Allen, Mr. William Henry\n5                                     Moran, Mr. James\n6                              McCarthy, Mr. Timothy J\n7                       Palsson, Master. Gosta Leonard\n8    Johnson, Mrs. Oscar W (Elisabeth Vilhelmina Berg)\n9                  Nasser, Mrs. Nicholas (Adele Achem)\nName: Name, dtype: object"
      ]
     },
     "execution_count": 52,
     "metadata": {},
     "output_type": "execute_result"
    }
   ],
   "source": [
    "data.Name.head(10)"
   ]
  },
  {
   "cell_type": "code",
   "execution_count": 53,
   "metadata": {},
   "outputs": [
    {
     "name": "stdout",
     "output_type": "stream",
     "text": [
      "Mr              517\nMiss            182\nMrs             125\nMaster           40\nDr                7\nRev               6\nMajor             2\nMlle              2\nCol               2\nMs                1\nthe Countess      1\nLady              1\nSir               1\nCapt              1\nDon               1\nJonkheer          1\nMme               1\nName: Title, dtype: int64\n"
     ]
    }
   ],
   "source": [
    "# Each Name has a title which contains information of gender and status\n",
    "def create_title(data):\n",
    "    data['Title'] = data['Name'].str.split(',', expand=True)[1].str.split('.', expand=True)[0].str.strip()\n",
    "    # Fill missing values\n",
    "    data['Title'].fillna(0, inplace=True)\n",
    "\n",
    "create_title(data)\n",
    "\n",
    "# Inspect the amount of people for each title\n",
    "print(data['Title'].value_counts())\n",
    "\n",
    "# Observation: The main categories are Mr, Miss, Mrs and Master. We can merge some of the others to these main \n",
    "# categories. "
   ]
  },
  {
   "cell_type": "code",
   "execution_count": 54,
   "metadata": {
    "collapsed": false
   },
   "outputs": [
    {
     "name": "stdout",
     "output_type": "stream",
     "text": [
      "    Title  Survived\n0  Master  0.575000\n1    Miss  0.702703\n2      Mr  0.160305\n3     Mrs  0.793651\n4   Other  0.312500"
     ]
    },
    {
     "name": "stdout",
     "output_type": "stream",
     "text": [
      "\n"
     ]
    },
    {
     "data": {
      "image/png": "[encoded data removed]",
      "text/plain": [
       "<Figure size 432x144 with 1 Axes>"
      ]
     },
     "metadata": {},
     "output_type": "display_data"
    }
   ],
   "source": [
    "# Lets merge all of the categories\n",
    "def replace_old_titles(data):\n",
    "    old = ['Mlle', 'Mme', 'Ms', 'Dr', 'Major', 'Lady', 'the Countess', 'Jonkheer', 'Col', 'Rev', 'Capt', 'Sir', 'Don']\n",
    "    new = ['Miss', 'Mrs', 'Miss', 'Mr', 'Other', 'Other', 'Other', 'Other', 'Other', 'Other', 'Other',\n",
    "           'Other', 'Other']\n",
    "    data['Title'].replace(old, new, inplace=True)\n",
    "\n",
    "replace_old_titles(data)\n",
    "\n",
    "# Inspect correlation\n",
    "print(data[['Title', 'Survived']].groupby(['Title'], as_index=False).mean())\n",
    "res = data[['Title', 'Survived']].groupby(['Title'], as_index=False).mean()\n",
    "\n",
    "Plot(res, 'Title', 'Survived')\n",
    "\n",
    "# mapping will be done later because we need the title to estimate the missing Ages"
   ]
  },
  {
   "cell_type": "heading",
   "metadata": {},
   "level": 1,
   "source": [
    "Sex"
   ]
  },
  {
   "cell_type": "code",
   "execution_count": 55,
   "metadata": {},
   "outputs": [
    {
     "data": {
      "text/plain": [
       "0"
      ]
     },
     "execution_count": 55,
     "metadata": {},
     "output_type": "execute_result"
    }
   ],
   "source": [
    "# check if there is any NAN\n",
    "data.Sex.isnull().sum(axis=0)"
   ]
  },
  {
   "cell_type": "code",
   "execution_count": 56,
   "metadata": {},
   "outputs": [
    {
     "name": "stdout",
     "output_type": "stream",
     "text": [
      "      Sex  Survived\n0  female  0.742038\n1    male  0.188908\n"
     ]
    },
    {
     "data": {
      "image/png": "[encoded data removed]",
      "text/plain": [
       "<Figure size 432x144 with 1 Axes>"
      ]
     },
     "metadata": {},
     "output_type": "display_data"
    }
   ],
   "source": [
    "# inspect the correlation between Sex and Survived\n",
    "res = data[['Sex', 'Survived']].groupby(['Sex'], as_index=False).mean()\n",
    "print(res)\n",
    "\n",
    "Plot(res, 'Sex', 'Survived')"
   ]
  },
  {
   "cell_type": "code",
   "execution_count": 57,
   "metadata": {},
   "outputs": [],
   "source": [
    "# map the two genders to 0 and 1\n",
    "def map_sex(data):\n",
    "    sex_mapping = {'male': 0, 'female': 1}\n",
    "    data['Sex'] = data['Sex'].map(sex_mapping)\n",
    "\n",
    "map_sex(data)"
   ]
  },
  {
   "cell_type": "heading",
   "metadata": {},
   "level": 1,
   "source": [
    "Age"
   ]
  },
  {
   "cell_type": "code",
   "execution_count": 58,
   "metadata": {},
   "outputs": [
    {
     "data": {
      "text/plain": [
       "177"
      ]
     },
     "execution_count": 58,
     "metadata": {},
     "output_type": "execute_result"
    }
   ],
   "source": [
    "# check if there is any NAN\n",
    "data.Age.isnull().sum(axis=0)"
   ]
  },
  {
   "cell_type": "code",
   "execution_count": 59,
   "metadata": {},
   "outputs": [
    {
     "name": "stdout",
     "output_type": "stream",
     "text": [
      "Title\nMaster     4.574167\nMiss      21.845638\nMr        32.511139\nMrs       35.788991\nOther     46.875000\nName: Age, dtype: float64\n"
     ]
    }
   ],
   "source": [
    "# There are too many missing values in the Age column, we cannot delete them so we have to fill them up\n",
    "# We are gonna use the Title feature we just created and the mean value for each of its values\n",
    "\n",
    "def fill_missing_Age(data):\n",
    "    # We use this as indicator to which Title what the average Age is\n",
    "    print(data.groupby('Title')['Age'].mean())\n",
    "    # Fill missing data for Age column\n",
    "    # With the statistics we make approximate estimation about the missing value\n",
    "    # This way we dont delete records(rows) with missing Age but save the record by fixing the data\n",
    "\n",
    "    # if Age has no value and depending on title we fill the Age column with the mean value for the group\n",
    "    data.loc[(data.Age.isnull()) & (data.Title == 'Master'), 'Age'] = 5\n",
    "    data.loc[(data.Age.isnull()) & (data.Title == 'Miss'), 'Age'] = 22\n",
    "    data.loc[(data.Age.isnull()) & (data.Title == 'Mr'), 'Age'] = 33\n",
    "    data.loc[(data.Age.isnull()) & (data.Title == 'Mrs'), 'Age'] = 36\n",
    "    data.loc[(data.Age.isnull()) & (data.Title == 'Other'), 'Age'] = 45\n",
    "\n",
    "    # check if there are any missing values\n",
    "    data['Age'].isnull().values.any()\n",
    "    \n",
    "fill_missing_Age(data)\n"
   ]
  },
  {
   "cell_type": "heading",
   "metadata": {},
   "level": 1,
   "source": [
    "SibSp and Parch"
   ]
  },
  {
   "cell_type": "code",
   "execution_count": 60,
   "metadata": {},
   "outputs": [
    {
     "data": {
      "text/plain": [
       "(0, 0)"
      ]
     },
     "execution_count": 60,
     "metadata": {},
     "output_type": "execute_result"
    }
   ],
   "source": [
    "# check if there is any NAN\n",
    "data.SibSp.isnull().sum(axis=0), data.Parch.isnull().sum(axis=0)\n"
   ]
  },
  {
   "cell_type": "code",
   "execution_count": 20,
   "metadata": {},
   "outputs": [
    {
     "name": "stdout",
     "output_type": "stream",
     "text": [
      "   Family_Size  Survived\n0            1  0.303538\n1            2  0.552795\n2            3  0.578431\n3            4  0.724138\n4            5  0.200000\n5            6  0.136364\n6            7  0.333333\n7            8  0.000000\n8           11  0.000000\n"
     ]
    },
    {
     "data": {
      "image/png": "[encoded data removed]",
      "text/plain": [
       "<Figure size 432x144 with 1 Axes>"
      ]
     },
     "metadata": {},
     "output_type": "display_data"
    }
   ],
   "source": [
    "# create new features - Family_Size and Alone\n",
    "def create_Family_Size_and_Alone(data):\n",
    "    # Create a new column for family size, a combination of Sibsp and Parch\n",
    "    data['Family_Size'] = 0\n",
    "    data['Family_Size'] = data['Parch'] + data['SibSp'] + 1\n",
    "\n",
    "    # Create new column Alone, all values set to 0\n",
    "    # If family size is 0 then the person is alone\n",
    "    data['Alone'] = 0\n",
    "    data.loc[data['Family_Size'] == 1, 'Alone'] = 1\n",
    "\n",
    "\n",
    "create_Family_Size_and_Alone(data)\n",
    "#print(data['Alone'].value_counts())\n",
    "res = data[['Family_Size', 'Survived']].groupby(['Family_Size'], as_index=False).mean()\n",
    "print(res)\n",
    "\n",
    "Plot(res, 'Family_Size', 'Survived')"
   ]
  },
  {
   "cell_type": "code",
   "execution_count": 21,
   "metadata": {},
   "outputs": [
    {
     "name": "stdout",
     "output_type": "stream",
     "text": [
      "   Family_Size  Survived\n0            0  0.161290\n1            1  0.303538\n2            2  0.552795\n3            3  0.578431\n4            4  0.724138\n"
     ]
    },
    {
     "data": {
      "image/png": "[encoded data removed]",
      "text/plain": [
       "<Figure size 432x144 with 1 Axes>"
      ]
     },
     "metadata": {},
     "output_type": "display_data"
    }
   ],
   "source": [
    "def Preprocess_Family_Size(data):\n",
    "    data['Family_Size'] = data['Family_Size'].map(lambda x: 0 if x > 4 else x)\n",
    "\n",
    "Preprocess_Family_Size(data)\n",
    "res = data[['Family_Size', 'Survived']].groupby(['Family_Size'], as_index=False).mean()\n",
    "print(res)\n",
    "Plot(res, 'Family_Size', 'Survived')"
   ]
  },
  {
   "cell_type": "heading",
   "metadata": {},
   "level": 1,
   "source": [
    "Ticket"
   ]
  },
  {
   "cell_type": "code",
   "execution_count": 22,
   "metadata": {},
   "outputs": [
    {
     "data": {
      "text/plain": [
       "0"
      ]
     },
     "execution_count": 22,
     "metadata": {},
     "output_type": "execute_result"
    }
   ],
   "source": [
    "# check if there is any NAN\n",
    "data.Ticket.isnull().sum(axis=0)"
   ]
  },
  {
   "cell_type": "code",
   "execution_count": 23,
   "metadata": {},
   "outputs": [
    {
     "data": {
      "text/plain": [
       "0            A/5 21171\n1             PC 17599\n2     STON/O2. 3101282\n3               113803\n4               373450\n5               330877\n6                17463\n7               349909\n8               347742\n9               237736\n10             PP 9549\n11              113783\n12           A/5. 2151\n13              347082\n14              350406\n15              248706\n16              382652\n17              244373\n18              345763\n19                2649\nName: Ticket, dtype: object"
      ]
     },
     "execution_count": 23,
     "metadata": {},
     "output_type": "execute_result"
    }
   ],
   "source": [
    "data.Ticket.head(20)"
   ]
  },
  {
   "cell_type": "code",
   "execution_count": 24,
   "metadata": {},
   "outputs": [
    {
     "name": "stdout",
     "output_type": "stream",
     "text": [
      "   Ticket  Survived\n0       1  0.630137\n1       2  0.464481\n2       3  0.239203\n3       4  0.200000\n4       5  0.000000\n5       6  0.166667\n6       7  0.111111\n7       8  0.000000\n8       9  1.000000\n9       A  0.068966\n10      C  0.340426\n11      F  0.571429\n12      L  0.250000\n13      P  0.646154\n14      S  0.323077\n15      W  0.153846\n"
     ]
    },
    {
     "data": {
      "image/png": "[encoded data removed]",
      "text/plain": [
       "<Figure size 432x144 with 1 Axes>"
      ]
     },
     "metadata": {},
     "output_type": "display_data"
    }
   ],
   "source": [
    "# It looks like there are two types of tickets: \n",
    "# (1) number \n",
    "# (2) letters + number\n",
    "\n",
    "# Ticket names with letters probably represent some special classes. For the numbers, the majority of tickets have \n",
    "# their first digit = 1, 2, or 3, which probably also represent different classes. \n",
    "\n",
    "# Lets keep only the first letter/number of the ticket\n",
    "\n",
    "def new_Ticket(data):\n",
    "    data['Ticket'] = data['Ticket'].str[0]\n",
    "    \n",
    "new_Ticket(data)\n",
    "\n",
    "res = data[['Ticket', 'Survived']].groupby(['Ticket'], as_index=False).mean()\n",
    "print(res)\n",
    "\n",
    "Plot(res, 'Ticket', 'Survived')\n",
    "\n"
   ]
  },
  {
   "cell_type": "code",
   "execution_count": 25,
   "metadata": {},
   "outputs": [
    {
     "data": {
      "text/plain": [
       "3    301\n2    183\n1    146\nP     65\nS     65\nC     47\nA     29\nW     13\n4     10\n7      9\nF      7\n6      6\nL      4\n5      3\n8      2\n9      1\nName: Ticket, dtype: int64"
      ]
     },
     "execution_count": 25,
     "metadata": {},
     "output_type": "execute_result"
    }
   ],
   "source": [
    "# inspect the amount of people for each type of tickets\n",
    "data['Ticket'].value_counts()\n",
    "\n",
    "# The majority of tickets is indeed \"3\", \"2\", and \"1\" For all others the survival rate is low except for \"9\",\"C\",\"F\",\n",
    "# \"P\", and \"S\". However, \"9\" and \"F\" are very small sample. "
   ]
  },
  {
   "cell_type": "code",
   "execution_count": 26,
   "metadata": {
    "collapsed": false
   },
   "outputs": [
    {
     "data": {
      "image/png": "[encoded data removed]",
      "text/plain": [
       "<Figure size 432x144 with 1 Axes>"
      ]
     },
     "metadata": {},
     "output_type": "display_data"
    }
   ],
   "source": [
    "# The main categories of Ticket are \"1\", \"2\", \"3\", \"P\", \"S\", and \"C\", so I will combine all the others into \"4\"\n",
    "def CombineTicket(data):\n",
    "    data['Ticket'] = data['Ticket'].replace(['A','W','F','L','5','6','7','8','9'], '4')\n",
    "\n",
    "CombineTicket(data)\n",
    "\n",
    "# check the correlation again\n",
    "res = data[['Ticket', 'Survived']].groupby(['Ticket'], as_index=False).mean()\n",
    "\n",
    "Plot(res, 'Ticket', 'Survived')\n",
    "# turn chars to numerics\n",
    "Ticket_to_numeric(data)"
   ]
  },
  {
   "cell_type": "code",
   "execution_count": 27,
   "metadata": {
    "collapsed": true
   },
   "outputs": [
    {
     "data": {
      "image/png": "[encoded data removed]",
      "text/plain": [
       "<Figure size 432x144 with 1 Axes>"
      ]
     },
     "metadata": {},
     "output_type": "display_data"
    }
   ],
   "source": [
    "Plot(res, 'Ticket', 'Survived')"
   ]
  },
  {
   "cell_type": "heading",
   "metadata": {},
   "level": 1,
   "source": [
    "Embarked"
   ]
  },
  {
   "cell_type": "code",
   "execution_count": 28,
   "metadata": {},
   "outputs": [
    {
     "name": "stdout",
     "output_type": "stream",
     "text": [
      "S    646\nC    168\nQ     77\nName: Embarked, dtype: int64\n"
     ]
    },
    {
     "data": {
      "image/png": "[encoded data removed]",
      "text/plain": [
       "<Figure size 720x144 with 1 Axes>"
      ]
     },
     "metadata": {},
     "output_type": "display_data"
    }
   ],
   "source": [
    "# 0 - S (Southampton)\n",
    "# 1 - C (Cherbourg)\n",
    "# 2 - Q (Queenstown)\n",
    "\n",
    "# Most of the passengers are from port S that is why we fill the missing values from Embarked with S\n",
    "fill_missing_Embarked(data)\n",
    "\n",
    "# Plot of Embarked vs Survived\n",
    "fig, ax = plt.subplots(figsize=(10,2))\n",
    "sns.barplot(x='Embarked', y='Survived', data=data,ax=ax, orient='v' )\n",
    "\n",
    "\n",
    "\n",
    "print(data['Embarked'].value_counts())\n",
    "\n",
    "# Map letters to numbers\n",
    "map_embarked(data)"
   ]
  },
  {
   "cell_type": "code",
   "execution_count": 29,
   "metadata": {},
   "outputs": [
    {
     "data": {
      "image/png": "[encoded data removed]",
      "text/plain": [
       "<Figure size 432x144 with 1 Axes>"
      ]
     },
     "metadata": {},
     "output_type": "display_data"
    }
   ],
   "source": [
    "# Create Age band and plot\n",
    "create_Age_band(data)\n",
    "\n",
    "res = data[['Age_band', 'Survived']].groupby(['Age_band'], as_index=False).mean()\n",
    "Plot(res, 'Age_band', 'Survived')"
   ]
  },
  {
   "cell_type": "code",
   "execution_count": 30,
   "metadata": {},
   "outputs": [
    {
     "data": {
      "image/png": "[encoded data removed]",
      "text/plain": [
       "<Figure size 432x144 with 1 Axes>"
      ]
     },
     "metadata": {},
     "output_type": "display_data"
    }
   ],
   "source": [
    "# Create Age band and plot\n",
    "\n",
    "# 0 indicates low fare\n",
    "# 3 indicates high fare\n",
    "create_Fare_category(data)\n",
    "\n",
    "res = data[['Fare_cat', 'Survived']].groupby(['Fare_cat'], as_index=False).mean()\n",
    "Plot(res, 'Fare_cat', 'Survived')"
   ]
  },
  {
   "cell_type": "code",
   "execution_count": 31,
   "metadata": {
    "collapsed": true
   },
   "outputs": [],
   "source": [
    "# Map title to numeric representation\n",
    "map_title(data)\n",
    "\n",
    "# drop features and create dummy columns\n",
    "drop_features(data)\n",
    "\n",
    "data = create_dummy_columns(data)"
   ]
  },
  {
   "cell_type": "code",
   "execution_count": 32,
   "metadata": {},
   "outputs": [
    {
     "data": {
      "text/plain": [
       "Index(['Survived', 'Sex', 'Ticket', 'Family_Size', 'Alone', 'Pclass_1',\n       'Pclass_2', 'Pclass_3', 'Embarked_0', 'Embarked_1', 'Embarked_2',\n       'Title_0', 'Title_1', 'Title_2', 'Title_3', 'Title_4', 'Age_band_0',\n       'Age_band_1', 'Age_band_2', 'Age_band_3', 'Age_band_4', 'Fare_cat_0',\n       'Fare_cat_1', 'Fare_cat_2', 'Fare_cat_3'],\n      dtype='object')"
      ]
     },
     "execution_count": 32,
     "metadata": {},
     "output_type": "execute_result"
    }
   ],
   "source": [
    "data.columns"
   ]
  },
  {
   "cell_type": "markdown",
   "metadata": {},
   "source": [
    "# One liner for Preprocessing"
   ]
  },
  {
   "cell_type": "code",
   "execution_count": 61,
   "metadata": {
    "collapsed": true
   },
   "outputs": [
    {
     "name": "stdout",
     "output_type": "stream",
     "text": [
      "Title\nMaster     4.574167\nMiss      21.845638\nMr        32.511139\nMrs       35.788991\nOther     46.875000\nName: Age, dtype: float64\n"
     ]
    }
   ],
   "source": [
    "# load raw data and process everything\n",
    "data = pd.read_csv(path_to_train_data)\n",
    "data = Preprocessing(data)"
   ]
  },
  {
   "cell_type": "code",
   "execution_count": 62,
   "metadata": {},
   "outputs": [
    {
     "name": "stdout",
     "output_type": "stream",
     "text": [
      "accuracy : 0.8321\n"
     ]
    }
   ],
   "source": [
    "from sklearn.linear_model import LogisticRegression, SGDClassifier\n",
    "from sklearn.svm import LinearSVC, SVC\n",
    "from sklearn.linear_model import RidgeClassifier\n",
    "from sklearn.neighbors import KNeighborsClassifier\n",
    "from sklearn.naive_bayes import GaussianNB, MultinomialNB\n",
    "from sklearn.ensemble.forest import RandomForestClassifier, DecisionTreeClassifier\n",
    "from sklearn.ensemble import AdaBoostClassifier\n",
    "from sklearn.model_selection import train_test_split\n",
    "from sklearn import metrics\n",
    "features = list(data.columns.values)\n",
    "features.remove('Survived')\n",
    "X = data[features].values\n",
    "Y = data['Survived']\n",
    "\n",
    "X_train, X_test, y_train, y_test = train_test_split(X, Y, test_size=0.3, random_state=42)\n",
    "\n",
    "lr_model = LinearSVC(random_state=42)\n",
    "lr_model.fit(X_train, y_train)\n",
    "\n",
    "lr_model_results = lr_model.predict(X_test)\n",
    "print(\"accuracy : {0:.4f}\".format(metrics.accuracy_score(y_test, lr_model_results)))"
   ]
  },
  {
   "cell_type": "code",
   "execution_count": 37,
   "metadata": {},
   "outputs": [
    {
     "name": "stdout",
     "output_type": "stream",
     "text": [
      "Unoptimized model\n------\nAccuracy score on testing data: 0.8022\nOob score on testing data: 0.8122\n\nOptimized Model\n------\nFinal accuracy score on the testing data: 0.7799\nFinal oob score on the testing data: 0.7994\n\nBest Parameters\n------\naccuracy : 0.7799\n"
     ]
    },
    {
     "name": "stderr",
     "output_type": "stream",
     "text": [
      "C:\\Program Files\\Python36\\lib\\site-packages\\sklearn\\model_selection\\_search.py:841: DeprecationWarning: The default of the `iid` parameter will change from True to False in version 0.22 and will be removed in 0.24. This will change numeric results when test-set sizes are unequal.\n  DeprecationWarning)\n"
     ]
    }
   ],
   "source": [
    "from sklearn.ensemble.forest import RandomForestClassifier, DecisionTreeClassifier\n",
    "from sklearn.ensemble import AdaBoostClassifier\n",
    "from sklearn.model_selection import GridSearchCV\n",
    "from sklearn.metrics import make_scorer\n",
    "from sklearn.metrics import accuracy_score\n",
    "\n",
    "clf = RandomForestClassifier(random_state=0, oob_score=True)\n",
    "\n",
    "parameters = {'criterion' :['gini'],\n",
    "             'n_estimators' : [32], #400\n",
    "             'max_depth':[5], #5\n",
    "             'min_samples_leaf': [4], #4\n",
    "              'max_leaf_nodes': [10], #10]\n",
    "              'min_impurity_decrease': [0], #0\n",
    "              'max_features' : [1] #1\n",
    "             }\n",
    "scorer = make_scorer(accuracy_score)\n",
    "\n",
    "grid_obj = GridSearchCV(clf, parameters, scoring = scorer, cv = 10)\n",
    "\n",
    "grid_fit = grid_obj.fit(X_train,y_train)\n",
    "\n",
    "best_clf = grid_fit.best_estimator_\n",
    "\n",
    "predictions = (clf.fit(X_train, y_train)).predict(X_test)\n",
    "best_predictions = best_clf.predict(X_test)\n",
    "\n",
    "print(\"Unoptimized model\\n------\")\n",
    "print(\"Accuracy score on testing data: {:.4f}\".format(accuracy_score(y_test, predictions)))\n",
    "print(\"Oob score on testing data: {:.4f}\".format(clf.oob_score_))\n",
    "print(\"\\nOptimized Model\\n------\")\n",
    "print(\"Final accuracy score on the testing data: {:.4f}\".format(accuracy_score(y_test, best_predictions)))\n",
    "print(\"Final oob score on the testing data: {:.4f}\".format(best_clf.oob_score_))\n",
    "print(\"\\nBest Parameters\\n------\")\n",
    "rfc_predict2 = best_clf.predict(X_test)\n",
    "print(\"accuracy : {0:.4f}\".format(metrics.accuracy_score(y_test, rfc_predict2)))"
   ]
  },
  {
   "cell_type": "code",
   "execution_count": 63,
   "metadata": {},
   "outputs": [],
   "source": [
    "path_to_test_data = \"test.csv\"\n",
    "test = pd.read_csv(path_to_test_data)"
   ]
  },
  {
   "cell_type": "code",
   "execution_count": 64,
   "metadata": {},
   "outputs": [
    {
     "name": "stdout",
     "output_type": "stream",
     "text": [
      "Title\nDona      39.000000\nMaster     7.406471\nMiss      21.774844\nMr        32.114130\nMrs       38.903226\nOther     42.750000\nName: Age, dtype: float64\n"
     ]
    }
   ],
   "source": [
    "passid = test['PassengerId'].values\n",
    "test = Preprocessing(test)"
   ]
  },
  {
   "cell_type": "code",
   "execution_count": 65,
   "metadata": {
    "collapsed": true
   },
   "outputs": [],
   "source": [
    "lr_test_results = lr_model.predict(test.values)"
   ]
  },
  {
   "cell_type": "code",
   "execution_count": 66,
   "metadata": {},
   "outputs": [],
   "source": [
    "passengerIds = passid\n",
    "result_values = lr_test_results\n",
    "result_table = pd.DataFrame({\n",
    "    'PassengerId': passengerIds,\n",
    "    'Survived': result_values\n",
    "})"
   ]
  },
  {
   "cell_type": "code",
   "execution_count": 67,
   "metadata": {},
   "outputs": [],
   "source": [
    "# These results can be submitted to kaggle challenge!\n",
    "path_to_save_results = \"result_02.csv\"\n",
    "result_table.to_csv(path_to_save_results, index=False)"
   ]
  },
  {
   "cell_type": "code",
   "execution_count": null,
   "metadata": {},
   "outputs": [],
   "source": []
  }
 ],
 "metadata": {
  "kernelspec": {
   "display_name": "Python 2",
   "language": "python",
   "name": "python2"
  },
  "language_info": {
   "codemirror_mode": {
    "name": "ipython",
    "version": 2
   },
   "file_extension": ".py",
   "mimetype": "text/x-python",
   "name": "python",
   "nbconvert_exporter": "python",
   "pygments_lexer": "ipython2",
   "version": "2.7.6"
  }
 },
 "nbformat": 4,
 "nbformat_minor": 0
}
